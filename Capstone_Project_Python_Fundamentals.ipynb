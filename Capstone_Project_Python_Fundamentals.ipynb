{
  "nbformat": 4,
  "nbformat_minor": 0,
  "metadata": {
    "colab": {
      "provenance": []
    },
    "kernelspec": {
      "name": "python3",
      "display_name": "Python 3"
    },
    "language_info": {
      "name": "python"
    }
  },
  "cells": [
    {
      "cell_type": "code",
      "execution_count": null,
      "metadata": {
        "id": "jkZkMQg34d4h"
      },
      "outputs": [],
      "source": [
        "import pandas as pd\n",
        "import numpy as np\n",
        "\n",
        "# Task 1: Creating DataFrames and saving them as CSV files\n",
        "project_data = {\n",
        "    \"ID\": [\"A001\", \"A002\", \"A003\", \"A004\", \"A005\", \"A002\", \"A005\", \"A003\", \"A003\", \"A003\", \"A001\", \"A004\", \"A004\", \"A005\"],\n",
        "    \"Project\": [f\"Project {i}\" for i in range(1, 15)],\n",
        "    \"Cost\": [1020000, 2000000, 4500000, 5500000, None, 680000, 400000, 350000, None, 300000, 2000000, 1000000, 3000000, 200000],\n",
        "    \"Status\": [\"Finished\", \"Ongoing\", \"Finished\", \"Ongoing\", \"Finished\", \"Failed\", \"Finished\", \"Failed\", \"Ongoing\", \"Finished\", \"Failed\", \"Ongoing\", \"Finished\", \"Finished\"]\n",
        "}\n",
        "project_df = pd.DataFrame(project_data)\n",
        "project_df.to_csv(\"project.csv\", index=False)\n",
        "\n",
        "employee_data = {\n",
        "    \"ID\": [\"A001\", \"A002\", \"A003\", \"A004\", \"A005\"],\n",
        "    \"Name\": [\"John Alter\", \"Alice Luxumberg\", \"Tom Sabestine\", \"Nina Adgra\", \"Amy Johny\"],\n",
        "    \"Gender\": [\"M\", \"F\", \"M\", \"F\", \"F\"],\n",
        "    \"City\": [\"Paris\", \"London\", \"Berlin\", \"Newyork\", \"Madrid\"],\n",
        "    \"Age\": [25, 27, 29, 31, 30]\n",
        "}\n",
        "employee_df = pd.DataFrame(employee_data)\n",
        "employee_df.to_csv(\"employee.csv\", index=False)\n",
        "\n",
        "seniority_data = {\n",
        "    \"ID\": [\"A001\", \"A002\", \"A003\", \"A004\", \"A005\"],\n",
        "    \"Designation Level\": [2, 2, 3, 2, 3]\n",
        "}\n",
        "seniority_df = pd.DataFrame(seniority_data)\n",
        "seniority_df.to_csv(\"seniority.csv\", index=False)\n"
      ]
    },
    {
      "cell_type": "code",
      "source": [
        "# Task 2: Replace missing cost values with running average\n",
        "for i in range(len(project_df)):\n",
        "    if pd.isna(project_df.loc[i, \"Cost\"]):\n",
        "        project_df.loc[i, \"Cost\"] = np.mean(project_df.loc[:i, \"Cost\"].dropna())\n"
      ],
      "metadata": {
        "id": "tlm-IObC8SM4"
      },
      "execution_count": null,
      "outputs": []
    },
    {
      "cell_type": "code",
      "source": [
        "# Task 3: Split Name column into First Name and Last Name\n",
        "employee_df[['First Name', 'Last Name']] = employee_df['Name'].str.split(' ', n=1, expand=True)\n",
        "employee_df.drop(columns=['Name'], inplace=True)\n"
      ],
      "metadata": {
        "id": "QytlPNU18V4T"
      },
      "execution_count": null,
      "outputs": []
    },
    {
      "cell_type": "code",
      "source": [
        "# Task 4: Join all three DataFrames\n",
        "final_df = project_df.merge(employee_df, on=\"ID\").merge(seniority_df, on=\"ID\")"
      ],
      "metadata": {
        "id": "1vG8HKDO8X6u"
      },
      "execution_count": null,
      "outputs": []
    },
    {
      "cell_type": "code",
      "source": [
        "# Task 5: Add bonus column (5% of project cost for finished projects)\n",
        "final_df[\"Bonus\"] = final_df.apply(lambda row: 0.05 * row[\"Cost\"] if row[\"Status\"] == \"Finished\" else 0, axis=1)\n"
      ],
      "metadata": {
        "id": "S4AyBNpZ8bpK"
      },
      "execution_count": null,
      "outputs": []
    },
    {
      "cell_type": "code",
      "source": [
        "# Task 6: Demote designation for failed projects\n",
        "failed_ids = final_df[final_df[\"Status\"] == \"Failed\"][\"ID\"].unique()\n",
        "final_df.loc[final_df[\"ID\"].isin(failed_ids), \"Designation Level\"] += 1\n",
        "final_df = final_df[final_df[\"Designation Level\"] <= 4]\n",
        "\n"
      ],
      "metadata": {
        "id": "FahJ48b08ek6"
      },
      "execution_count": null,
      "outputs": []
    },
    {
      "cell_type": "code",
      "source": [
        "# Task 7: Add Mr./Mrs. and drop gender column\n",
        "final_df[\"First Name\"] = final_df.apply(lambda row: (\"Mr. \" if row[\"Gender\"] == \"M\" else \"Mrs. \") + row[\"First Name\"], axis=1)\n",
        "final_df.drop(columns=[\"Gender\"], inplace=True)\n"
      ],
      "metadata": {
        "id": "DaWNAotf8f-G"
      },
      "execution_count": null,
      "outputs": []
    },
    {
      "cell_type": "code",
      "source": [
        "# Task 8: Promote designation level for employees above 29 years\n",
        "final_df.loc[final_df[\"Age\"] > 29, \"Designation Level\"] -= 1\n"
      ],
      "metadata": {
        "id": "ZUeU0xfz8h8R"
      },
      "execution_count": null,
      "outputs": []
    },
    {
      "cell_type": "code",
      "source": [
        "# Task 9: Calculate total project cost per employee\n",
        "total_proj_cost = final_df.groupby([\"ID\", \"First Name\"])[\"Cost\"].sum().reset_index()\n",
        "total_proj_cost.rename(columns={\"Cost\": \"Total Cost\"}, inplace=True)\n",
        "\n",
        "total_proj_cost.to_csv(\"TotalProjCost.csv\", index=False)\n"
      ],
      "metadata": {
        "id": "4wk-UVyJ8kWZ"
      },
      "execution_count": null,
      "outputs": []
    },
    {
      "cell_type": "code",
      "source": [
        "# Task 10: Filter employees whose city contains 'o'\n",
        "employees_with_o = final_df[final_df[\"City\"].str.contains(\"o\", case=False)]\n"
      ],
      "metadata": {
        "id": "RqtDHjNc8lGF"
      },
      "execution_count": null,
      "outputs": []
    },
    {
      "cell_type": "code",
      "source": [
        "# Saving final dataframe\n",
        "final_df.to_csv(\"final.csv\", index=False)\n",
        "\n",
        "print(\"All tasks completed and saved as CSV files.\")"
      ],
      "metadata": {
        "colab": {
          "base_uri": "https://localhost:8080/"
        },
        "id": "FFqUHmbX8uB5",
        "outputId": "15b5ac9a-e7d2-4064-e788-cb2869dd08d3"
      },
      "execution_count": null,
      "outputs": [
        {
          "output_type": "stream",
          "name": "stdout",
          "text": [
            "All tasks completed and saved as CSV files.\n"
          ]
        }
      ]
    }
  ]
}